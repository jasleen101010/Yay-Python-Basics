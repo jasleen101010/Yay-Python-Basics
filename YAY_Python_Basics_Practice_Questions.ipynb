{
  "nbformat": 4,
  "nbformat_minor": 0,
  "metadata": {
    "colab": {
      "name": "YAY-Python Basics- Practice Questions.ipynb",
      "provenance": [],
      "collapsed_sections": [],
      "authorship_tag": "ABX9TyP9cgEsBP8jJuivhgO5w5iu",
      "include_colab_link": true
    },
    "kernelspec": {
      "name": "python3",
      "display_name": "Python 3"
    }
  },
  "cells": [
    {
      "cell_type": "markdown",
      "metadata": {
        "id": "view-in-github",
        "colab_type": "text"
      },
      "source": [
        "<a href=\"https://colab.research.google.com/github/jasleen101010/Yay-Python-Basics/blob/master/YAY_Python_Basics_Practice_Questions.ipynb\" target=\"_parent\"><img src=\"https://colab.research.google.com/assets/colab-badge.svg\" alt=\"Open In Colab\"/></a>"
      ]
    },
    {
      "cell_type": "code",
      "metadata": {
        "colab": {
          "base_uri": "https://localhost:8080/"
        },
        "id": "y94Syv7Uyg4a",
        "outputId": "9a1f27c9-9f1a-4685-e2a4-ec37cb4774de"
      },
      "source": [
        "#!pip install multipledispatch (Un-comment this to install the package multipledispatch which is used to perform overloading)\r\n",
        "#Method Overloading in Python is not supported directly by default. We use Decorators to achieve it.\r\n",
        "# Write a Python Program to find the area of traingle, rectangle and square using method overloading.\r\n",
        "\r\n",
        "from multipledispatch import dispatch\r\n",
        "\r\n",
        "\r\n",
        "class Overloading:\r\n",
        "    @dispatch(int, float)\r\n",
        "    def area(self, base, height):\r\n",
        "        tri_area = 0.5 * base * height\r\n",
        "        print(\"The area of  the triangle is \", tri_area)\r\n",
        "\r\n",
        "    @dispatch(int, int)\r\n",
        "    def area(self, length, breadth):\r\n",
        "        rect_area = length * breadth\r\n",
        "        print(\"The area of the rectangle is \", rect_area)\r\n",
        "\r\n",
        "    @dispatch(float)\r\n",
        "    def area(self, side):\r\n",
        "        square_area = side * side\r\n",
        "        print(\"The area of the sqaure is \", square_area)\r\n",
        "\r\n",
        "\r\n",
        "obj = Overloading()\r\n",
        "obj.area(20, 20.50)\r\n",
        "obj.area(15, 20)\r\n",
        "obj.area(10.20)\r\n"
      ],
      "execution_count": 28,
      "outputs": [
        {
          "output_type": "stream",
          "text": [
            "The area of  the triangle is  205.0\n",
            "The area of the rectangle is  300\n",
            "The area of the sqaure is  104.03999999999999\n"
          ],
          "name": "stdout"
        }
      ]
    },
    {
      "cell_type": "code",
      "metadata": {
        "colab": {
          "base_uri": "https://localhost:8080/"
        },
        "id": "QFU-V9PhMK7J",
        "outputId": "9093d3aa-69c2-428d-e0fe-bd4b48fc84d4"
      },
      "source": [
        "#Write a Python program to check whether the given number is a Palindrome number or not.\r\n",
        "n=input(\"Enter the number to be checked : \")\r\n",
        "if n==n[::-1]:\r\n",
        "  print(\"The entered number is a Palindrome number!\")\r\n",
        "\r\n",
        "else:\r\n",
        "  print(\"The entered number is not a Palindrome number\")"
      ],
      "execution_count": 29,
      "outputs": [
        {
          "output_type": "stream",
          "text": [
            "Enter the number to be checked : 121\n",
            "The entered number is a Palindrome number!\n"
          ],
          "name": "stdout"
        }
      ]
    },
    {
      "cell_type": "code",
      "metadata": {
        "colab": {
          "base_uri": "https://localhost:8080/"
        },
        "id": "6W90zA8yzILt",
        "outputId": "bfbbf46c-9e1b-4b0d-b9f1-15b7934fd620"
      },
      "source": [
        "#Write a Python Program to take a list as input from the user and find the largest and the smallest element. \r\n",
        "#Also, sort the list in descending order.\r\n",
        "list = []\r\n",
        "n = int(input(\"Enter the size of the list : \"))\r\n",
        "for i in range(n):\r\n",
        "    ele = int(input(\"Enter elements of the list \"))\r\n",
        "    list.append(ele)\r\n",
        "print(\"The given list is :\",list)\r\n",
        "print(\"The largest value in the given list is : \",max(list))\r\n",
        "print(\"The smallest value in the list is : \",min(list))\r\n",
        "list.sort(reverse=True)\r\n",
        "print(\"The list in descending order will look like :\",list)"
      ],
      "execution_count": 30,
      "outputs": [
        {
          "output_type": "stream",
          "text": [
            "Enter the size of the list : 4\n",
            "Enter elements of the list 65\n",
            "Enter elements of the list 2\n",
            "Enter elements of the list 888\n",
            "Enter elements of the list 1230\n",
            "The given list is : [65, 2, 888, 1230]\n",
            "The largest value in the given list is :  1230\n",
            "The smallest value in the list is :  2\n",
            "The list in descending order will look like : [1230, 888, 65, 2]\n"
          ],
          "name": "stdout"
        }
      ]
    },
    {
      "cell_type": "code",
      "metadata": {
        "id": "xkjrp90zy_Lc"
      },
      "source": [
        ""
      ],
      "execution_count": null,
      "outputs": []
    }
  ]
}