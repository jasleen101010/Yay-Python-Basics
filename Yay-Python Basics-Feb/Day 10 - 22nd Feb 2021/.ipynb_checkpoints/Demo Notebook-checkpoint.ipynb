{
 "cells": [
  {
   "cell_type": "code",
   "execution_count": 1,
   "metadata": {},
   "outputs": [
    {
     "data": {
      "text/plain": [
       "7"
      ]
     },
     "execution_count": 1,
     "metadata": {},
     "output_type": "execute_result"
    }
   ],
   "source": [
    "7"
   ]
  },
  {
   "cell_type": "code",
   "execution_count": 2,
   "metadata": {},
   "outputs": [
    {
     "name": "stdout",
     "output_type": "stream",
     "text": [
      "7\n"
     ]
    }
   ],
   "source": [
    "print(7)"
   ]
  },
  {
   "cell_type": "code",
   "execution_count": 3,
   "metadata": {},
   "outputs": [
    {
     "data": {
      "text/plain": [
       "24"
      ]
     },
     "execution_count": 3,
     "metadata": {},
     "output_type": "execute_result"
    }
   ],
   "source": [
    "def sumOfThreeNos(a, b, c):\n",
    "    return a + b + c\n",
    "\n",
    "sumOfThreeNos(7, 8, 9)"
   ]
  },
  {
   "cell_type": "code",
   "execution_count": 4,
   "metadata": {},
   "outputs": [
    {
     "data": {
      "text/plain": [
       "54"
      ]
     },
     "execution_count": 4,
     "metadata": {},
     "output_type": "execute_result"
    }
   ],
   "source": [
    "sumOfThreeNos(17, 18, 19)"
   ]
  },
  {
   "cell_type": "code",
   "execution_count": 5,
   "metadata": {},
   "outputs": [],
   "source": [
    "a = 7"
   ]
  },
  {
   "cell_type": "code",
   "execution_count": 6,
   "metadata": {},
   "outputs": [
    {
     "data": {
      "text/plain": [
       "15"
      ]
     },
     "execution_count": 6,
     "metadata": {},
     "output_type": "execute_result"
    }
   ],
   "source": [
    "a + 8"
   ]
  },
  {
   "cell_type": "code",
   "execution_count": 7,
   "metadata": {},
   "outputs": [
    {
     "data": {
      "text/plain": [
       "{'__name__': '__main__',\n",
       " '__doc__': 'Automatically created module for IPython interactive environment',\n",
       " '__package__': None,\n",
       " '__loader__': None,\n",
       " '__spec__': None,\n",
       " '__builtin__': <module 'builtins' (built-in)>,\n",
       " '__builtins__': <module 'builtins' (built-in)>,\n",
       " '_ih': ['',\n",
       "  '7',\n",
       "  'print(7)',\n",
       "  'def sumOfThreeNos(a, b, c):\\n    return a + b + c\\n\\nsumOfThreeNos(7, 8, 9)',\n",
       "  'sumOfThreeNos(17, 18, 19)',\n",
       "  'a = 7',\n",
       "  'a + 8',\n",
       "  'locals()'],\n",
       " '_oh': {1: 7, 3: 24, 4: 54, 6: 15},\n",
       " '_dh': ['D:\\\\Backup\\\\HRC Laptop\\\\GirlScript-YAY\\\\YAY\\\\Classes\\\\New Syllabus\\\\Py Basics\\\\Batch - 1\\\\Day 10'],\n",
       " 'In': ['',\n",
       "  '7',\n",
       "  'print(7)',\n",
       "  'def sumOfThreeNos(a, b, c):\\n    return a + b + c\\n\\nsumOfThreeNos(7, 8, 9)',\n",
       "  'sumOfThreeNos(17, 18, 19)',\n",
       "  'a = 7',\n",
       "  'a + 8',\n",
       "  'locals()'],\n",
       " 'Out': {1: 7, 3: 24, 4: 54, 6: 15},\n",
       " 'get_ipython': <bound method InteractiveShell.get_ipython of <ipykernel.zmqshell.ZMQInteractiveShell object at 0x000002472F27BE50>>,\n",
       " 'exit': <IPython.core.autocall.ZMQExitAutocall at 0x2472f2d80a0>,\n",
       " 'quit': <IPython.core.autocall.ZMQExitAutocall at 0x2472f2d80a0>,\n",
       " '_': 15,\n",
       " '__': 54,\n",
       " '___': 24,\n",
       " '_i': 'a + 8',\n",
       " '_ii': 'a = 7',\n",
       " '_iii': 'sumOfThreeNos(17, 18, 19)',\n",
       " '_i1': '7',\n",
       " '_1': 7,\n",
       " '_i2': 'print(7)',\n",
       " '_i3': 'def sumOfThreeNos(a, b, c):\\n    return a + b + c\\n\\nsumOfThreeNos(7, 8, 9)',\n",
       " 'sumOfThreeNos': <function __main__.sumOfThreeNos(a, b, c)>,\n",
       " '_3': 24,\n",
       " '_i4': 'sumOfThreeNos(17, 18, 19)',\n",
       " '_4': 54,\n",
       " '_i5': 'a = 7',\n",
       " 'a': 7,\n",
       " '_i6': 'a + 8',\n",
       " '_6': 15,\n",
       " '_i7': 'locals()'}"
      ]
     },
     "execution_count": 7,
     "metadata": {},
     "output_type": "execute_result"
    }
   ],
   "source": [
    "locals()"
   ]
  },
  {
   "cell_type": "code",
   "execution_count": null,
   "metadata": {},
   "outputs": [],
   "source": [
    "if __name__ == '__main__':\n",
    "    doSomething()"
   ]
  }
 ],
 "metadata": {
  "kernelspec": {
   "display_name": "Python 3",
   "language": "python",
   "name": "python3"
  },
  "language_info": {
   "codemirror_mode": {
    "name": "ipython",
    "version": 3
   },
   "file_extension": ".py",
   "mimetype": "text/x-python",
   "name": "python",
   "nbconvert_exporter": "python",
   "pygments_lexer": "ipython3",
   "version": "3.8.4"
  }
 },
 "nbformat": 4,
 "nbformat_minor": 4
}
